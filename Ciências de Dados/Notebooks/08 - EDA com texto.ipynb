{
  "cells": [
    {
      "cell_type": "markdown",
      "metadata": {
        "id": "mVSghAFZ5QLe"
      },
      "source": [
        "# Análise Exploratória de Dados Textuais"
      ]
    },
    {
      "cell_type": "markdown",
      "metadata": {
        "id": "DefMF-sn5QLf"
      },
      "source": [
        "## Seção 1: Preparação do Ambiente e Carga dos Dados"
      ]
    },
    {
      "cell_type": "markdown",
      "metadata": {
        "id": "MP84F8jm5QLf"
      },
      "source": [
        "### Introdução à Análise Exploratória de Dados para Textos\n",
        "\n",
        "Antes de iniciar qualquer análise, é crucial definir um problema claro para guiar a exploração. Uma AED sem um objetivo pode se tornar um processo sem fim e com poucos resultados práticos. Para esta aula, nosso problema central será: **\"O que as avaliações textuais dos clientes da Olist nos dizem sobre os principais motivos de satisfação e insatisfação?\"**.\n",
        "\n",
        "Para responder a essa pergunta, utilizaremos o **Dataset Olist**, um robusto conjunto de dados público que contém informações de 100.000 pedidos realizados em um grande marketplace brasileiro entre 2016 e 2018. Este dataset é particularmente valioso para Processamento de Linguagem Natural (PLN) por incluir uma rica coleção de avaliações de clientes, permitindo uma análise profunda da experiência de compra a partir de múltiplas dimensões, como status do pedido, pagamento, desempenho da entrega e atributos do produto."
      ]
    },
    {
      "cell_type": "markdown",
      "metadata": {
        "id": "K6OsZ28e5QLf"
      },
      "source": [
        "### Configuração do Ambiente\n",
        "\n",
        "Para iniciar nossa jornada, o primeiro passo é configurar o ambiente de desenvolvimento, importando as bibliotecas essenciais que nos darão as ferramentas necessárias para manipulação, processamento e visualização dos dados."
      ]
    },
    {
      "cell_type": "code",
      "execution_count": 6,
      "metadata": {
        "id": "5cWfE0tu5QLg"
      },
      "outputs": [
        {
          "name": "stderr",
          "output_type": "stream",
          "text": [
            "[nltk_data] Downloading package punkt to\n",
            "[nltk_data]     /Users/michaelwillian/nltk_data...\n",
            "[nltk_data]   Package punkt is already up-to-date!\n",
            "[nltk_data] Downloading package punkt_tab to\n",
            "[nltk_data]     /Users/michaelwillian/nltk_data...\n",
            "[nltk_data]   Package punkt_tab is already up-to-date!\n",
            "[nltk_data] Downloading package stopwords to\n",
            "[nltk_data]     /Users/michaelwillian/nltk_data...\n",
            "[nltk_data]   Package stopwords is already up-to-date!\n",
            "[nltk_data] Downloading package rslp to\n",
            "[nltk_data]     /Users/michaelwillian/nltk_data...\n",
            "[nltk_data]   Package rslp is already up-to-date!\n"
          ]
        },
        {
          "data": {
            "text/plain": [
              "True"
            ]
          },
          "execution_count": 6,
          "metadata": {},
          "output_type": "execute_result"
        }
      ],
      "source": [
        "# Importação das bibliotecas fundamentais\n",
        "import pandas as pd\n",
        "import numpy as np\n",
        "import seaborn as sns\n",
        "import matplotlib.pyplot as plt\n",
        "import re\n",
        "import string\n",
        "\n",
        "# Bibliotecas para Processamento de Linguagem Natural (PLN)\n",
        "import nltk\n",
        "from nltk.tokenize import word_tokenize\n",
        "from nltk.corpus import stopwords\n",
        "from nltk.stem.rslp import RSLPStemmer\n",
        "from nltk.probability import FreqDist\n",
        "from wordcloud import WordCloud\n",
        "\n",
        "# Configurações de visualização\n",
        "sns.set_style(\"whitegrid\")\n",
        "%matplotlib inline\n",
        "\n",
        "# Download de recursos necessários do NLTK (executar apenas na primeira vez)\n",
        "nltk.download('punkt')\n",
        "nltk.download('punkt_tab')\n",
        "nltk.download('stopwords')\n",
        "nltk.download('rslp')"
      ]
    },
    {
      "cell_type": "markdown",
      "metadata": {
        "id": "oHPvMBLJ5QLg"
      },
      "source": [
        "A biblioteca `nltk` (Natural Language Toolkit) é o pilar de nossas operações de PLN. O comando `nltk.download()` é utilizado para baixar pacotes de dados essenciais: `punkt` contém modelos pré-treinados para tokenização (divisão de texto em palavras), `stopwords` fornece listas de palavras comuns a serem filtradas, e `rslp` contém o algoritmo de *stemming* para a língua portuguesa."
      ]
    },
    {
      "cell_type": "markdown",
      "metadata": {
        "id": "1DGJynAm5QLg"
      },
      "source": [
        "### Carregamento e Inspeção Inicial dos Dados\n",
        "\n",
        "Com o ambiente configurado, o próximo passo é carregar o arquivo que contém as avaliações dos clientes, `olist_order_reviews_dataset.csv`, e realizar uma inspeção inicial para entender sua estrutura e qualidade."
      ]
    },
    {
      "cell_type": "code",
      "execution_count": 17,
      "metadata": {
        "id": "pr5kA0Oa5QLh"
      },
      "outputs": [
        {
          "name": "stdout",
          "output_type": "stream",
          "text": [
            "Amostra dos dados:\n"
          ]
        },
        {
          "data": {
            "text/html": [
              "<div>\n",
              "<style scoped>\n",
              "    .dataframe tbody tr th:only-of-type {\n",
              "        vertical-align: middle;\n",
              "    }\n",
              "\n",
              "    .dataframe tbody tr th {\n",
              "        vertical-align: top;\n",
              "    }\n",
              "\n",
              "    .dataframe thead th {\n",
              "        text-align: right;\n",
              "    }\n",
              "</style>\n",
              "<table border=\"1\" class=\"dataframe\">\n",
              "  <thead>\n",
              "    <tr style=\"text-align: right;\">\n",
              "      <th></th>\n",
              "      <th>review_id</th>\n",
              "      <th>order_id</th>\n",
              "      <th>review_score</th>\n",
              "      <th>review_comment_title</th>\n",
              "      <th>review_comment_message</th>\n",
              "      <th>review_creation_date</th>\n",
              "      <th>review_answer_timestamp</th>\n",
              "    </tr>\n",
              "  </thead>\n",
              "  <tbody>\n",
              "    <tr>\n",
              "      <th>0</th>\n",
              "      <td>7bc2406110b926393aa56f80a40eba40</td>\n",
              "      <td>73fc7af87114b39712e6da79b0a377eb</td>\n",
              "      <td>4</td>\n",
              "      <td>NaN</td>\n",
              "      <td>NaN</td>\n",
              "      <td>2018-01-18 00:00:00</td>\n",
              "      <td>2018-01-18 21:46:59</td>\n",
              "    </tr>\n",
              "    <tr>\n",
              "      <th>1</th>\n",
              "      <td>80e641a11e56f04c1ad469d5645fdfde</td>\n",
              "      <td>a548910a1c6147796b98fdf73dbeba33</td>\n",
              "      <td>5</td>\n",
              "      <td>NaN</td>\n",
              "      <td>NaN</td>\n",
              "      <td>2018-03-10 00:00:00</td>\n",
              "      <td>2018-03-11 03:05:13</td>\n",
              "    </tr>\n",
              "    <tr>\n",
              "      <th>2</th>\n",
              "      <td>228ce5500dc1d8e020d8d1322874b6f0</td>\n",
              "      <td>f9e4b658b201a9f2ecdecbb34bed034b</td>\n",
              "      <td>5</td>\n",
              "      <td>NaN</td>\n",
              "      <td>NaN</td>\n",
              "      <td>2018-02-17 00:00:00</td>\n",
              "      <td>2018-02-18 14:36:24</td>\n",
              "    </tr>\n",
              "    <tr>\n",
              "      <th>3</th>\n",
              "      <td>e64fb393e7b32834bb789ff8bb30750e</td>\n",
              "      <td>658677c97b385a9be170737859d3511b</td>\n",
              "      <td>5</td>\n",
              "      <td>NaN</td>\n",
              "      <td>Recebi bem antes do prazo estipulado.</td>\n",
              "      <td>2017-04-21 00:00:00</td>\n",
              "      <td>2017-04-21 22:02:06</td>\n",
              "    </tr>\n",
              "    <tr>\n",
              "      <th>4</th>\n",
              "      <td>f7c4243c7fe1938f181bec41a392bdeb</td>\n",
              "      <td>8e6bfb81e283fa7e4f11123a3fb894f1</td>\n",
              "      <td>5</td>\n",
              "      <td>NaN</td>\n",
              "      <td>Parabéns lojas lannister adorei comprar pela I...</td>\n",
              "      <td>2018-03-01 00:00:00</td>\n",
              "      <td>2018-03-02 10:26:53</td>\n",
              "    </tr>\n",
              "  </tbody>\n",
              "</table>\n",
              "</div>"
            ],
            "text/plain": [
              "                          review_id                          order_id  \\\n",
              "0  7bc2406110b926393aa56f80a40eba40  73fc7af87114b39712e6da79b0a377eb   \n",
              "1  80e641a11e56f04c1ad469d5645fdfde  a548910a1c6147796b98fdf73dbeba33   \n",
              "2  228ce5500dc1d8e020d8d1322874b6f0  f9e4b658b201a9f2ecdecbb34bed034b   \n",
              "3  e64fb393e7b32834bb789ff8bb30750e  658677c97b385a9be170737859d3511b   \n",
              "4  f7c4243c7fe1938f181bec41a392bdeb  8e6bfb81e283fa7e4f11123a3fb894f1   \n",
              "\n",
              "   review_score review_comment_title  \\\n",
              "0             4                  NaN   \n",
              "1             5                  NaN   \n",
              "2             5                  NaN   \n",
              "3             5                  NaN   \n",
              "4             5                  NaN   \n",
              "\n",
              "                              review_comment_message review_creation_date  \\\n",
              "0                                                NaN  2018-01-18 00:00:00   \n",
              "1                                                NaN  2018-03-10 00:00:00   \n",
              "2                                                NaN  2018-02-17 00:00:00   \n",
              "3              Recebi bem antes do prazo estipulado.  2017-04-21 00:00:00   \n",
              "4  Parabéns lojas lannister adorei comprar pela I...  2018-03-01 00:00:00   \n",
              "\n",
              "  review_answer_timestamp  \n",
              "0     2018-01-18 21:46:59  \n",
              "1     2018-03-11 03:05:13  \n",
              "2     2018-02-18 14:36:24  \n",
              "3     2017-04-21 22:02:06  \n",
              "4     2018-03-02 10:26:53  "
            ]
          },
          "metadata": {},
          "output_type": "display_data"
        },
        {
          "name": "stdout",
          "output_type": "stream",
          "text": [
            "\n",
            "Informações do DataFrame:\n",
            "<class 'pandas.core.frame.DataFrame'>\n",
            "RangeIndex: 99224 entries, 0 to 99223\n",
            "Data columns (total 7 columns):\n",
            " #   Column                   Non-Null Count  Dtype \n",
            "---  ------                   --------------  ----- \n",
            " 0   review_id                99224 non-null  object\n",
            " 1   order_id                 99224 non-null  object\n",
            " 2   review_score             99224 non-null  int64 \n",
            " 3   review_comment_title     11568 non-null  object\n",
            " 4   review_comment_message   40977 non-null  object\n",
            " 5   review_creation_date     99224 non-null  object\n",
            " 6   review_answer_timestamp  99224 non-null  object\n",
            "dtypes: int64(1), object(6)\n",
            "memory usage: 5.3+ MB\n",
            "\n",
            "Contagem de valores nulos por coluna:\n",
            "review_id                      0\n",
            "order_id                       0\n",
            "review_score                   0\n",
            "review_comment_title       87656\n",
            "review_comment_message     58247\n",
            "review_creation_date           0\n",
            "review_answer_timestamp        0\n",
            "dtype: int64\n"
          ]
        }
      ],
      "source": [
        "# Carregando o dataset de avaliações\n",
        "reviews_df = pd.read_csv('./data/olist_order_reviews_dataset.csv')\n",
        "\n",
        "# Exibindo as primeiras linhas do DataFrame\n",
        "print(\"Amostra dos dados:\")\n",
        "display(reviews_df.head())\n",
        "\n",
        "# Exibindo informações gerais sobre o DataFrame\n",
        "print(\"\\nInformações do DataFrame:\")\n",
        "reviews_df.info()\n",
        "\n",
        "# Verificando a quantidade de valores nulos em cada coluna\n",
        "print(\"\\nContagem de valores nulos por coluna:\")\n",
        "print(reviews_df.isnull().sum())"
      ]
    },
    {
      "cell_type": "markdown",
      "metadata": {
        "id": "5SfY2x2B5QLh"
      },
      "source": [
        "A inspeção inicial revela informações cruciais. O método `.info()` nos mostra os tipos de dados de cada coluna e o uso de memória, enquanto `.isnull().sum()` quantifica os dados ausentes. Para facilitar a compreensão, a tabela a seguir detalha o significado de cada coluna.\n",
        "\n",
        "**Tabela 1: Dicionário de Dados do `olist_order_reviews_dataset.csv`**\n",
        "\n",
        "| Nome da Coluna | Descrição |\n",
        "| :--- | :--- |\n",
        "| `review_id` | Identificador único da avaliação. |\n",
        "| `order_id` | Identificador único do pedido associado à avaliação. |\n",
        "| `review_score` | Nota atribuída pelo cliente (escala de 1 a 5). |\n",
        "| `review_comment_title` | Título do comentário da avaliação (opcional). |\n",
        "| `review_comment_message` | Corpo do comentário da avaliação (opcional). |\n",
        "| `review_creation_date` | Data em que a pesquisa de satisfação foi enviada ao cliente. |\n",
        "| `review_answer_timestamp` | Data e hora em que o cliente respondeu à pesquisa. |\n",
        "\n",
        "A análise de valores nulos destaca um ponto de atenção: as colunas `review_comment_title` e `review_comment_message` possuem uma quantidade expressiva de dados ausentes. Isso é esperado, pois muitos clientes atribuem uma nota sem deixar um comentário escrito. Nossa estratégia será unificar essas duas colunas em um único campo de texto, `review_text`. Para as entradas nulas, utilizaremos o método `.fillna(\"\")` para substituí-las por uma string vazia, garantindo que as operações de texto subsequentes não resultem em erros."
      ]
    },
    {
      "cell_type": "code",
      "execution_count": 18,
      "metadata": {
        "id": "29SK-9v15QLh"
      },
      "outputs": [
        {
          "data": {
            "text/html": [
              "<div>\n",
              "<style scoped>\n",
              "    .dataframe tbody tr th:only-of-type {\n",
              "        vertical-align: middle;\n",
              "    }\n",
              "\n",
              "    .dataframe tbody tr th {\n",
              "        vertical-align: top;\n",
              "    }\n",
              "\n",
              "    .dataframe thead th {\n",
              "        text-align: right;\n",
              "    }\n",
              "</style>\n",
              "<table border=\"1\" class=\"dataframe\">\n",
              "  <thead>\n",
              "    <tr style=\"text-align: right;\">\n",
              "      <th></th>\n",
              "      <th>review_id</th>\n",
              "      <th>order_id</th>\n",
              "      <th>review_score</th>\n",
              "      <th>review_creation_date</th>\n",
              "      <th>review_answer_timestamp</th>\n",
              "      <th>review_text</th>\n",
              "    </tr>\n",
              "  </thead>\n",
              "  <tbody>\n",
              "    <tr>\n",
              "      <th>0</th>\n",
              "      <td>7bc2406110b926393aa56f80a40eba40</td>\n",
              "      <td>73fc7af87114b39712e6da79b0a377eb</td>\n",
              "      <td>4</td>\n",
              "      <td>2018-01-18 00:00:00</td>\n",
              "      <td>2018-01-18 21:46:59</td>\n",
              "      <td></td>\n",
              "    </tr>\n",
              "    <tr>\n",
              "      <th>1</th>\n",
              "      <td>80e641a11e56f04c1ad469d5645fdfde</td>\n",
              "      <td>a548910a1c6147796b98fdf73dbeba33</td>\n",
              "      <td>5</td>\n",
              "      <td>2018-03-10 00:00:00</td>\n",
              "      <td>2018-03-11 03:05:13</td>\n",
              "      <td></td>\n",
              "    </tr>\n",
              "    <tr>\n",
              "      <th>2</th>\n",
              "      <td>228ce5500dc1d8e020d8d1322874b6f0</td>\n",
              "      <td>f9e4b658b201a9f2ecdecbb34bed034b</td>\n",
              "      <td>5</td>\n",
              "      <td>2018-02-17 00:00:00</td>\n",
              "      <td>2018-02-18 14:36:24</td>\n",
              "      <td></td>\n",
              "    </tr>\n",
              "    <tr>\n",
              "      <th>3</th>\n",
              "      <td>e64fb393e7b32834bb789ff8bb30750e</td>\n",
              "      <td>658677c97b385a9be170737859d3511b</td>\n",
              "      <td>5</td>\n",
              "      <td>2017-04-21 00:00:00</td>\n",
              "      <td>2017-04-21 22:02:06</td>\n",
              "      <td>Recebi bem antes do prazo estipulado.</td>\n",
              "    </tr>\n",
              "    <tr>\n",
              "      <th>4</th>\n",
              "      <td>f7c4243c7fe1938f181bec41a392bdeb</td>\n",
              "      <td>8e6bfb81e283fa7e4f11123a3fb894f1</td>\n",
              "      <td>5</td>\n",
              "      <td>2018-03-01 00:00:00</td>\n",
              "      <td>2018-03-02 10:26:53</td>\n",
              "      <td>Parabéns lojas lannister adorei comprar pela ...</td>\n",
              "    </tr>\n",
              "  </tbody>\n",
              "</table>\n",
              "</div>"
            ],
            "text/plain": [
              "                          review_id                          order_id  \\\n",
              "0  7bc2406110b926393aa56f80a40eba40  73fc7af87114b39712e6da79b0a377eb   \n",
              "1  80e641a11e56f04c1ad469d5645fdfde  a548910a1c6147796b98fdf73dbeba33   \n",
              "2  228ce5500dc1d8e020d8d1322874b6f0  f9e4b658b201a9f2ecdecbb34bed034b   \n",
              "3  e64fb393e7b32834bb789ff8bb30750e  658677c97b385a9be170737859d3511b   \n",
              "4  f7c4243c7fe1938f181bec41a392bdeb  8e6bfb81e283fa7e4f11123a3fb894f1   \n",
              "\n",
              "   review_score review_creation_date review_answer_timestamp  \\\n",
              "0             4  2018-01-18 00:00:00     2018-01-18 21:46:59   \n",
              "1             5  2018-03-10 00:00:00     2018-03-11 03:05:13   \n",
              "2             5  2018-02-17 00:00:00     2018-02-18 14:36:24   \n",
              "3             5  2017-04-21 00:00:00     2017-04-21 22:02:06   \n",
              "4             5  2018-03-01 00:00:00     2018-03-02 10:26:53   \n",
              "\n",
              "                                         review_text  \n",
              "0                                                     \n",
              "1                                                     \n",
              "2                                                     \n",
              "3              Recebi bem antes do prazo estipulado.  \n",
              "4   Parabéns lojas lannister adorei comprar pela ...  "
            ]
          },
          "metadata": {},
          "output_type": "display_data"
        }
      ],
      "source": [
        "# Combinando título e mensagem em uma única coluna de texto\n",
        "# Preenchendo valores nulos com strings vazias para evitar erros\n",
        "reviews_df['review_text'] = reviews_df['review_comment_title'].fillna('') + ' ' + reviews_df['review_comment_message'].fillna('')\n",
        "\n",
        "# Removendo as colunas originais e mantendo apenas a nova coluna de texto e as demais\n",
        "reviews_df = reviews_df.drop(columns=['review_comment_title', 'review_comment_message'])\n",
        "\n",
        "# Verificando as primeiras linhas com a nova coluna\n",
        "display(reviews_df.head())"
      ]
    },
    {
      "cell_type": "markdown",
      "metadata": {
        "id": "N2a8s3up5QLh"
      },
      "source": [
        "Este tratamento de dados nos deixa com um DataFrame mais limpo e uma única coluna de texto pronta para a análise. É importante notar que a alta taxa de comentários em branco introduz um viés inerente ao nosso corpus textual. A ação de dar uma nota (de 1 a 5) é uma tarefa de baixo esforço, enquanto escrever um comentário detalhado exige um esforço consideravelmente maior. Consequentemente, os clientes que investem tempo para escrever tendem a estar nos extremos do espectro de satisfação: ou muito satisfeitos, querendo elogiar, ou muito insatisfeitos, buscando detalhar um problema. As experiências medianas, que não geram uma forte reação emocional, são sub-representadas no texto. Portanto, as conclusões que extrairmos refletirão os \"pontos de dor\" e os \"pontos de encanto\" mais significativos da jornada do cliente, e não necessariamente os problemas mais frequentes, mas menos impactantes."
      ]
    },
    {
      "cell_type": "markdown",
      "metadata": {
        "id": "0i--YvbL5QLi"
      },
      "source": [
        "---"
      ]
    },
    {
      "cell_type": "markdown",
      "metadata": {
        "id": "AsqaIoIP5QLi"
      },
      "source": [
        "## Seção 2: Análise Descritiva e Limpeza Inicial do Texto\n",
        "\n",
        "Após a preparação inicial, o próximo passo é mergulhar na análise descritiva do texto. Isso envolve quantificar características básicas das avaliações, como seu comprimento, e realizar os primeiros passos de limpeza para padronizar o corpus."
      ]
    },
    {
      "cell_type": "markdown",
      "metadata": {
        "id": "jBD4c2oL5QLi"
      },
      "source": [
        "### Análise do Comprimento das Avaliações\n",
        "\n",
        "Uma forma simples, porém poderosa, de começar a entender o texto é analisar seu comprimento. Avaliações muito curtas podem ser genéricas, enquanto avaliações longas podem conter detalhes ricos sobre a experiência do cliente. Vamos criar duas novas colunas: `review_length`, com o número de caracteres, e `word_count`, com o número de palavras de cada avaliação."
      ]
    },
    {
      "cell_type": "code",
      "execution_count": 19,
      "metadata": {
        "id": "u7-uAaH15QLi"
      },
      "outputs": [
        {
          "name": "stdout",
          "output_type": "stream",
          "text": [
            "Estatísticas Descritivas do Comprimento das Avaliações:\n"
          ]
        },
        {
          "data": {
            "text/html": [
              "<div>\n",
              "<style scoped>\n",
              "    .dataframe tbody tr th:only-of-type {\n",
              "        vertical-align: middle;\n",
              "    }\n",
              "\n",
              "    .dataframe tbody tr th {\n",
              "        vertical-align: top;\n",
              "    }\n",
              "\n",
              "    .dataframe thead th {\n",
              "        text-align: right;\n",
              "    }\n",
              "</style>\n",
              "<table border=\"1\" class=\"dataframe\">\n",
              "  <thead>\n",
              "    <tr style=\"text-align: right;\">\n",
              "      <th></th>\n",
              "      <th>review_length</th>\n",
              "      <th>word_count</th>\n",
              "    </tr>\n",
              "  </thead>\n",
              "  <tbody>\n",
              "    <tr>\n",
              "      <th>count</th>\n",
              "      <td>99224.000000</td>\n",
              "      <td>99224.000000</td>\n",
              "    </tr>\n",
              "    <tr>\n",
              "      <th>mean</th>\n",
              "      <td>30.738229</td>\n",
              "      <td>5.041462</td>\n",
              "    </tr>\n",
              "    <tr>\n",
              "      <th>std</th>\n",
              "      <td>49.673819</td>\n",
              "      <td>8.604777</td>\n",
              "    </tr>\n",
              "    <tr>\n",
              "      <th>min</th>\n",
              "      <td>1.000000</td>\n",
              "      <td>0.000000</td>\n",
              "    </tr>\n",
              "    <tr>\n",
              "      <th>25%</th>\n",
              "      <td>1.000000</td>\n",
              "      <td>0.000000</td>\n",
              "    </tr>\n",
              "    <tr>\n",
              "      <th>50%</th>\n",
              "      <td>1.000000</td>\n",
              "      <td>0.000000</td>\n",
              "    </tr>\n",
              "    <tr>\n",
              "      <th>75%</th>\n",
              "      <td>46.000000</td>\n",
              "      <td>7.000000</td>\n",
              "    </tr>\n",
              "    <tr>\n",
              "      <th>max</th>\n",
              "      <td>229.000000</td>\n",
              "      <td>48.000000</td>\n",
              "    </tr>\n",
              "  </tbody>\n",
              "</table>\n",
              "</div>"
            ],
            "text/plain": [
              "       review_length    word_count\n",
              "count   99224.000000  99224.000000\n",
              "mean       30.738229      5.041462\n",
              "std        49.673819      8.604777\n",
              "min         1.000000      0.000000\n",
              "25%         1.000000      0.000000\n",
              "50%         1.000000      0.000000\n",
              "75%        46.000000      7.000000\n",
              "max       229.000000     48.000000"
            ]
          },
          "metadata": {},
          "output_type": "display_data"
        }
      ],
      "source": [
        "# Criando uma coluna para o número de caracteres\n",
        "reviews_df['review_length'] = reviews_df['review_text'].str.len()\n",
        "\n",
        "# Criando uma coluna para o número de palavras\n",
        "reviews_df['word_count'] = reviews_df['review_text'].apply(lambda x: len(x.split()))\n",
        "\n",
        "# Exibindo estatísticas descritivas para as novas colunas\n",
        "print(\"Estatísticas Descritivas do Comprimento das Avaliações:\")\n",
        "display(reviews_df[['review_length', 'word_count']].describe())"
      ]
    },
    {
      "cell_type": "markdown",
      "metadata": {
        "id": "2jBoceWL5QLi"
      },
      "source": [
        "Para visualizar a distribuição desses valores, um histograma é a ferramenta ideal. Utilizaremos a função `histplot` da biblioteca Seaborn."
      ]
    },
    {
      "cell_type": "code",
      "execution_count": 22,
      "metadata": {
        "id": "plLUjVpW5QLi"
      },
      "outputs": [
        {
          "data": {
            "image/png": "[encoded data removed]",
            "text/plain": [
              "<Figure size 1400x600 with 2 Axes>"
            ]
          },
          "metadata": {},
          "output_type": "display_data"
        }
      ],
      "source": [
        "# Visualização 1: Distribuição do Comprimento das Avaliações (em caracteres)\n",
        "\n",
        "#tirar os valores com 0 e 1 da coluna review_length\n",
        "\n",
        "\n",
        "plt.figure(figsize=(14, 6))\n",
        "sns.set(font_scale=1.5)\n",
        "\n",
        "# Histograma para todas as avaliações\n",
        "plt.subplot(1, 2, 1)\n",
        "sns.histplot(reviews_df[reviews_df['review_length'] > 1]['review_length'], bins=50, kde=True)\n",
        "plt.title('Distribuição do Comprimento das Avaliações')\n",
        "plt.xlabel('Número de Caracteres')\n",
        "plt.ylabel('Frequência')\n",
        "plt.xlim(0, 300) # Limitando o eixo x para melhor visualização\n",
        "\n",
        "# Histograma do comprimento por nota de avaliação\n",
        "plt.subplot(1, 2, 2)\n",
        "\n",
        "sns.histplot(data=reviews_df[reviews_df['review_length'] > 1], x='review_length', hue='review_score', palette='viridis', multiple='stack', bins=50)\n",
        "plt.title('Distribuição do Comprimento por Nota')\n",
        "plt.xlabel('Número de Caracteres')\n",
        "plt.ylabel('Frequência')\n",
        "plt.xlim(0, 300)\n",
        "\n",
        "plt.tight_layout()\n",
        "plt.show()"
      ]
    },
    {
      "cell_type": "markdown",
      "metadata": {
        "id": "WMJwRboZ5QLi"
      },
      "source": [
        "A análise visual dos histogramas pode revelar um padrão interessante. Frequentemente, avaliações com notas muito baixas (1 ou 2) tendem a ser mais longas. Isso ocorre porque clientes insatisfeitos geralmente precisam de mais palavras para articular a natureza específica de seus problemas — seja um atraso na entrega, um produto com defeito ou uma experiência de atendimento ruim. Por outro lado, clientes satisfeitos podem expressar seu contentamento de forma mais concisa, com frases como \"ótimo produto\" ou \"chegou rápido\". Essa observação é valiosa, pois sugere que o comprimento do texto, por si só, pode funcionar como um indicador da intensidade do sentimento. Em um projeto de machine learning futuro, `review_length` e `word_count` poderiam ser utilizadas como *features* preditivas para classificar o sentimento de uma avaliação."
      ]
    },
    {
      "cell_type": "markdown",
      "metadata": {
        "id": "QhaweB-R5QLi"
      },
      "source": [
        "### Pré-processamento Básico do Texto\n",
        "\n",
        "Antes de avançarmos para técnicas mais sofisticadas, é fundamental realizar uma limpeza básica para normalizar o texto. Este processo garante que variações irrelevantes, como o uso de maiúsculas e minúsculas ou a presença de pontuação, não interfiram na nossa análise."
      ]
    },
    {
      "cell_type": "markdown",
      "metadata": {
        "id": "ee3a0vs55QLi"
      },
      "source": [
        "#### Conversão para Minúsculas (Lowercase)\n",
        "\n",
        "A conversão de todo o texto para letras minúsculas é um passo crucial de normalização. Para um computador, \"Produto\", \"produto\" e \"PRODUTO\" são três palavras distintas. Ao padronizá-las para \"produto\", garantimos que todas as ocorrências sejam contadas juntas, o que nos dá uma medida mais precisa da frequência e importância dos termos."
      ]
    },
    {
      "cell_type": "code",
      "execution_count": 23,
      "metadata": {
        "id": "-QnWgl7L5QLi"
      },
      "outputs": [],
      "source": [
        "# Criando uma nova coluna com o texto limpo, começando pela conversão para minúsculas\n",
        "reviews_df['clean_text'] = reviews_df['review_text'].str.lower()"
      ]
    },
    {
      "cell_type": "markdown",
      "metadata": {
        "id": "X1U0qZuD5QLi"
      },
      "source": [
        "#### Remoção de Pontuação\n",
        "\n",
        "Caracteres de pontuação como vírgulas, pontos e pontos de exclamação são essenciais para a estrutura gramatical e a legibilidade humana, mas geralmente adicionam ruído à análise de frequência de palavras. A remoção desses caracteres nos ajuda a focar no conteúdo semântico do texto. A abordagem mais robusta para essa tarefa é o uso de expressões regulares (regex), que permitem definir um padrão para encontrar e substituir todos os caracteres que não são letras, números ou espaços em branco."
      ]
    },
    {
      "cell_type": "code",
      "execution_count": 26,
      "metadata": {
        "id": "5MZZVKHb5QLi"
      },
      "outputs": [
        {
          "name": "stdout",
          "output_type": "stream",
          "text": [
            "Comparação do Texto Original vs. Limpo:\n"
          ]
        },
        {
          "data": {
            "text/html": [
              "<div>\n",
              "<style scoped>\n",
              "    .dataframe tbody tr th:only-of-type {\n",
              "        vertical-align: middle;\n",
              "    }\n",
              "\n",
              "    .dataframe tbody tr th {\n",
              "        vertical-align: top;\n",
              "    }\n",
              "\n",
              "    .dataframe thead th {\n",
              "        text-align: right;\n",
              "    }\n",
              "</style>\n",
              "<table border=\"1\" class=\"dataframe\">\n",
              "  <thead>\n",
              "    <tr style=\"text-align: right;\">\n",
              "      <th></th>\n",
              "      <th>review_text</th>\n",
              "      <th>clean_text</th>\n",
              "    </tr>\n",
              "  </thead>\n",
              "  <tbody>\n",
              "    <tr>\n",
              "      <th>55232</th>\n",
              "      <td>Mto bom</td>\n",
              "      <td>mto bom</td>\n",
              "    </tr>\n",
              "    <tr>\n",
              "      <th>80637</th>\n",
              "      <td>Produto bonito, no entanto, a parte musical n...</td>\n",
              "      <td>produto bonito no entanto a parte musical não...</td>\n",
              "    </tr>\n",
              "    <tr>\n",
              "      <th>45739</th>\n",
              "      <td></td>\n",
              "      <td></td>\n",
              "    </tr>\n",
              "    <tr>\n",
              "      <th>975</th>\n",
              "      <td></td>\n",
              "      <td></td>\n",
              "    </tr>\n",
              "    <tr>\n",
              "      <th>90819</th>\n",
              "      <td>Ouve um problema e a entrega não foi realizad...</td>\n",
              "      <td>ouve um problema e a entrega não foi realizad...</td>\n",
              "    </tr>\n",
              "  </tbody>\n",
              "</table>\n",
              "</div>"
            ],
            "text/plain": [
              "                                             review_text  \\\n",
              "55232                                            Mto bom   \n",
              "80637   Produto bonito, no entanto, a parte musical n...   \n",
              "45739                                                      \n",
              "975                                                        \n",
              "90819   Ouve um problema e a entrega não foi realizad...   \n",
              "\n",
              "                                              clean_text  \n",
              "55232                                            mto bom  \n",
              "80637   produto bonito no entanto a parte musical não...  \n",
              "45739                                                     \n",
              "975                                                       \n",
              "90819   ouve um problema e a entrega não foi realizad...  "
            ]
          },
          "metadata": {},
          "output_type": "display_data"
        }
      ],
      "source": [
        "# Removendo pontuação usando expressões regulares\n",
        "# O padrão [^\\w\\s] corresponde a qualquer caractere que não seja uma letra/número (\\w) ou um espaço em branco (\\s)\n",
        "reviews_df['clean_text'] = reviews_df['clean_text'].str.replace(r'[^\\w\\s]', ' ', regex=True)\n",
        "\n",
        "# Exibindo o texto original e o texto limpo para comparação\n",
        "print(\"Comparação do Texto Original vs. Limpo:\")\n",
        "display(reviews_df[['review_text', 'clean_text']].sample(5))"
      ]
    },
    {
      "cell_type": "markdown",
      "metadata": {
        "id": "GcBgm8305QLi"
      },
      "source": [
        "Com esses dois passos, nosso texto está mais padronizado e pronto para as etapas de tokenização e análise de frequência."
      ]
    },
    {
      "cell_type": "markdown",
      "metadata": {
        "id": "dPzpiETJ5QLj"
      },
      "source": [
        "---"
      ]
    },
    {
      "cell_type": "markdown",
      "metadata": {
        "id": "Ay85LLO45QLj"
      },
      "source": [
        "## Seção 3: Tokenização e Remoção de Stopwords\n",
        "\n",
        "Agora que nosso texto está limpo e padronizado, podemos avançar para duas etapas fundamentais do pré-processamento em PLN: a tokenização e a remoção de *stopwords*. Esses processos nos permitem decompor o texto em suas unidades básicas e filtrar o ruído para focar nos termos que realmente carregam significado."
      ]
    },
    {
      "cell_type": "markdown",
      "metadata": {
        "id": "w2OdE7jc5QLj"
      },
      "source": [
        "### Tokenização\n",
        "\n",
        "Tokenização é o processo de segmentar uma sequência de texto em unidades menores, chamadas de *tokens*. Na maioria dos casos, esses tokens são palavras individuais, mas também podem ser sentenças ou mesmo caracteres, dependendo da aplicação. Para a nossa análise de frequência, estamos interessados em tokens no nível de palavras. A biblioteca NLTK oferece a função `word_tokenize`, um tokenizador sofisticado que lida bem com contrações e outras nuances da linguagem."
      ]
    },
    {
      "cell_type": "code",
      "execution_count": 27,
      "metadata": {
        "id": "NHyWdzoc5QLj"
      },
      "outputs": [
        {
          "name": "stdout",
          "output_type": "stream",
          "text": [
            "Amostra da coluna de tokens:\n"
          ]
        },
        {
          "data": {
            "text/html": [
              "<div>\n",
              "<style scoped>\n",
              "    .dataframe tbody tr th:only-of-type {\n",
              "        vertical-align: middle;\n",
              "    }\n",
              "\n",
              "    .dataframe tbody tr th {\n",
              "        vertical-align: top;\n",
              "    }\n",
              "\n",
              "    .dataframe thead th {\n",
              "        text-align: right;\n",
              "    }\n",
              "</style>\n",
              "<table border=\"1\" class=\"dataframe\">\n",
              "  <thead>\n",
              "    <tr style=\"text-align: right;\">\n",
              "      <th></th>\n",
              "      <th>clean_text</th>\n",
              "      <th>tokens</th>\n",
              "    </tr>\n",
              "  </thead>\n",
              "  <tbody>\n",
              "    <tr>\n",
              "      <th>0</th>\n",
              "      <td></td>\n",
              "      <td>[]</td>\n",
              "    </tr>\n",
              "    <tr>\n",
              "      <th>1</th>\n",
              "      <td></td>\n",
              "      <td>[]</td>\n",
              "    </tr>\n",
              "    <tr>\n",
              "      <th>2</th>\n",
              "      <td></td>\n",
              "      <td>[]</td>\n",
              "    </tr>\n",
              "    <tr>\n",
              "      <th>3</th>\n",
              "      <td>recebi bem antes do prazo estipulado</td>\n",
              "      <td>[recebi, bem, antes, do, prazo, estipulado]</td>\n",
              "    </tr>\n",
              "    <tr>\n",
              "      <th>4</th>\n",
              "      <td>parabéns lojas lannister adorei comprar pela ...</td>\n",
              "      <td>[parabéns, lojas, lannister, adorei, comprar, ...</td>\n",
              "    </tr>\n",
              "  </tbody>\n",
              "</table>\n",
              "</div>"
            ],
            "text/plain": [
              "                                          clean_text  \\\n",
              "0                                                      \n",
              "1                                                      \n",
              "2                                                      \n",
              "3               recebi bem antes do prazo estipulado   \n",
              "4   parabéns lojas lannister adorei comprar pela ...   \n",
              "\n",
              "                                              tokens  \n",
              "0                                                 []  \n",
              "1                                                 []  \n",
              "2                                                 []  \n",
              "3        [recebi, bem, antes, do, prazo, estipulado]  \n",
              "4  [parabéns, lojas, lannister, adorei, comprar, ...  "
            ]
          },
          "metadata": {},
          "output_type": "display_data"
        }
      ],
      "source": [
        "# Aplicando a tokenização na coluna de texto limpo\n",
        "# O resultado será uma nova coluna onde cada linha contém uma lista de tokens (palavras)\n",
        "reviews_df['tokens'] = reviews_df['clean_text'].apply(word_tokenize)\n",
        "\n",
        "# Exibindo a nova coluna de tokens\n",
        "print(\"Amostra da coluna de tokens:\")\n",
        "display(reviews_df[['clean_text', 'tokens']].head())"
      ]
    },
    {
      "cell_type": "markdown",
      "metadata": {
        "id": "a56ZUvpo5QLj"
      },
      "source": [
        "### Remoção de Stopwords\n",
        "\n",
        "*Stopwords* são palavras extremamente comuns em um idioma que, embora essenciais para a estrutura gramatical, carregam pouco ou nenhum valor semântico para a análise de conteúdo. Exemplos em português incluem \"de\", \"a\", \"o\", \"que\", \"e\", \"do\". A remoção dessas palavras nos ajuda a reduzir a dimensionalidade dos dados e a focar nos termos que realmente descrevem a experiência do cliente.\n",
        "\n",
        "O NLTK fornece uma lista de stopwords para diversos idiomas, incluindo o português. Para otimizar o processo de verificação, é uma boa prática converter essa lista em um conjunto (`set`), pois a busca de elementos em um conjunto tem uma complexidade de tempo média de O(1), muito mais eficiente do que a busca em uma lista, que é O(n)."
      ]
    },
    {
      "cell_type": "code",
      "execution_count": null,
      "metadata": {
        "id": "doHCALsq5QLj"
      },
      "outputs": [],
      "source": [
        "# Carregando a lista de stopwords em português do NLTK\n",
        "stop_words_pt = set(stopwords.words('portuguese'))\n",
        "\n",
        "# Função para remover stopwords de uma lista de tokens\n",
        "def remove_stopwords_func(tokens):\n",
        "    return [word for word in tokens if word not in stop_words_pt]\n",
        "\n",
        "# Aplicando a função para criar uma nova coluna com tokens limpos (sem stopwords)\n",
        "reviews_df['tokens_no_stop'] = reviews_df['tokens'].apply(remove_stopwords_func)\n",
        "\n",
        "# Exibindo o resultado da remoção de stopwords\n",
        "print(\"Comparação de Tokens com e sem Stopwords:\")\n",
        "display(reviews_df[['tokens', 'tokens_no_stop']].head())"
      ]
    },
    {
      "cell_type": "markdown",
      "metadata": {
        "id": "6mvMwnbN5QLj"
      },
      "source": [
        "Este processo de filtragem representa mais do que uma simples limpeza técnica; é uma transformação conceitual. Ao remover as *stopwords*, estamos efetivamente destilando o \"sinal\" semântico do \"ruído\" gramatical. As *stopwords* são a \"cola\" que une as palavras de conteúdo (substantivos, verbos, adjetivos) para formar sentenças compreensíveis para humanos. No entanto, para muitos algoritmos de PLN que se baseiam em frequência, elas obscurecem os termos que realmente importam. Ao isolar as palavras de conteúdo, transformamos a \"linguagem humana\" em \"dados informacionais\", preparando o terreno para uma análise de frequência muito mais significativa."
      ]
    },
    {
      "cell_type": "markdown",
      "metadata": {
        "id": "-jLcOur35QLj"
      },
      "source": [
        "### Exercício Prático 3: Análise do Impacto das Stopwords\n",
        "\n",
        "**Tarefa:** Calcule o número total de tokens em todo o corpus *antes* e *depois* da remoção de stopwords. Com base nesses números, calcule a porcentagem de redução de tokens. Por fim, identifique e liste as 10 stopwords que foram mais frequentemente removidas do dataset.\n",
        "\n",
        "**Objetivo de Aprendizagem:** Este exercício tem como objetivo quantificar o impacto da remoção de stopwords no volume de dados e ajudar a entender quais são as palavras mais comuns e estruturais no contexto do português brasileiro utilizado em avaliações de e-commerce."
      ]
    },
    {
      "cell_type": "code",
      "execution_count": null,
      "metadata": {
        "id": "ow7JjmP55QLj"
      },
      "outputs": [],
      "source": []
    },
    {
      "cell_type": "markdown",
      "metadata": {
        "id": "EIWpsVDx5QLj"
      },
      "source": [
        "---"
      ]
    },
    {
      "cell_type": "markdown",
      "metadata": {
        "id": "dxwKq1R05QLj"
      },
      "source": [
        "## Seção 4: Análise de Frequência com Unigrams e Bigrams\n",
        "\n",
        "Com os tokens devidamente limpos, podemos agora realizar uma das análises mais fundamentais em texto: a análise de frequência. Vamos investigar quais são as palavras e frases mais comuns utilizadas pelos clientes, o que nos dará os primeiros insights sobre os principais tópicos de discussão."
      ]
    },
    {
      "cell_type": "markdown",
      "metadata": {
        "id": "zzCDNWXR5QLq"
      },
      "source": [
        "### Análise de Unigrams (Palavras Individuais)\n",
        "\n",
        "Um *unigram* é simplesmente uma palavra individual. Ao contar a frequência de cada unigram em nosso corpus, podemos identificar os termos mais recorrentes.\n",
        "\n",
        "Primeiro, precisamos agrupar todos os nossos tokens (sem stopwords) em uma única lista. Em seguida, podemos usar a classe `FreqDist` do NLTK, que é otimizada para contar a frequência de itens em uma sequência."
      ]
    },
    {
      "cell_type": "code",
      "execution_count": null,
      "metadata": {
        "id": "AzNbNae35QLq"
      },
      "outputs": [],
      "source": [
        "# Criando uma lista única com todos os tokens (sem stopwords)\n",
        "all_tokens = [token for sublist in reviews_df['tokens_no_stop'] for token in sublist]\n",
        "\n",
        "# Calculando a frequência de cada token\n",
        "freq_dist = FreqDist(all_tokens)\n",
        "\n",
        "# Exibindo as 20 palavras mais comuns\n",
        "print(\"As 20 palavras mais comuns (Unigrams):\")\n",
        "print(freq_dist.most_common(20))\n",
        "\n",
        "# Convertendo a distribuição de frequência para um DataFrame para facilitar a visualização\n",
        "unigrams_df = pd.DataFrame(freq_dist.most_common(20), columns=['Palavra', 'Frequência'])\n",
        "\n",
        "# Visualização 2: Gráfico de barras das palavras mais comuns\n",
        "plt.figure(figsize=(12, 8))\n",
        "sns.barplot(data=unigrams_df, x='Frequência', y='Palavra', palette='plasma')\n",
        "plt.title('20 Palavras Mais Frequentes nas Avaliações (Unigrams)')\n",
        "plt.xlabel('Frequência')\n",
        "plt.ylabel('Palavra')\n",
        "plt.show()"
      ]
    },
    {
      "cell_type": "markdown",
      "metadata": {
        "id": "aDT9Avjz5QLq"
      },
      "source": [
        "### Análise de Bigrams (Pares de Palavras)\n",
        "\n",
        "Embora a análise de unigrams seja útil, ela perde o contexto. Por exemplo, as palavras \"não\" e \"recebi\" podem ser frequentes, mas a combinação \"não recebi\" é muito mais informativa. *N-grams* são sequências de *n* palavras consecutivas. Um *bigram* é um n-gram de tamanho 2. A análise de bigrams nos ajuda a capturar frases curtas e a entender melhor o contexto em que as palavras são usadas."
      ]
    },
    {
      "cell_type": "code",
      "execution_count": null,
      "metadata": {
        "id": "DSm9gXjx5QLq"
      },
      "outputs": [],
      "source": [
        "# Gerando bigrams a partir da lista de todos os tokens\n",
        "bigrams = list(nltk.bigrams(all_tokens))\n",
        "\n",
        "# Calculando a frequência de cada bigram\n",
        "freq_dist_bigrams = FreqDist(bigrams)\n",
        "\n",
        "# Exibindo os 20 bigrams mais comuns\n",
        "print(\"Os 20 bigrams mais comuns:\")\n",
        "print(freq_dist_bigrams.most_common(20))\n",
        "\n",
        "# Formatando os bigrams para visualização\n",
        "bigrams_list_for_df = freq_dist_bigrams.most_common(20)\n",
        "bigrams_df = pd.DataFrame(bigrams_list_for_df, columns=['Bigram', 'Frequência'])\n",
        "bigrams_df['Bigram'] = bigrams_df['Bigram'].apply(lambda x: ' '.join(x))\n",
        "\n",
        "# Visualização: Gráfico de barras dos bigrams mais comuns\n",
        "plt.figure(figsize=(12, 8))\n",
        "sns.barplot(data=bigrams_df, x='Frequência', y='Bigram', palette='magma')\n",
        "plt.title('20 Bigrams Mais Frequentes nas Avaliações')\n",
        "plt.xlabel('Frequência')\n",
        "plt.ylabel('Bigram')\n",
        "plt.show()"
      ]
    },
    {
      "cell_type": "markdown",
      "metadata": {
        "id": "MSNUhhWO5QLq"
      },
      "source": [
        "A comparação entre os resultados de unigrams e bigrams revela uma camada mais profunda de insight. Enquanto os unigrams identificam os *sujeitos* da conversa (ex: \"produto\", \"entrega\", \"prazo\"), os bigrams frequentemente combinam esses sujeitos com um qualificador (adjetivo) ou uma ação (verbo), revelando a *natureza* da conversa. Por exemplo, \"entrega\" é um tópico, mas \"entrega rápida\" é um feedback positivo específico, e \"produto errado\" é um feedback negativo específico. A análise de bigrams é, portanto, um passo crucial para evoluir da identificação de \"o quê\" para a compreensão de \"como\", fornecendo insights muito mais acionáveis para a empresa. Se \"antes prazo\" é um bigrama comum em avaliações positivas, a eficiência logística é um ponto forte a ser mantido e destacado."
      ]
    },
    {
      "cell_type": "markdown",
      "metadata": {
        "id": "izyh5Vz95QLq"
      },
      "source": [
        "### Exercício Prático 4: Análise por nota\n",
        "\n",
        "**Tarefa:** Repita o processo de análise de frequência para unigramas, bigramas e trigramas, mas com duas análises em separado, uma para as reviews como nota 1 e com nota 5\n",
        "\n",
        "Para trigramas use nltk.trigrams()"
      ]
    },
    {
      "cell_type": "code",
      "execution_count": null,
      "metadata": {
        "id": "2Tg4QzFv5QLq"
      },
      "outputs": [],
      "source": []
    },
    {
      "cell_type": "markdown",
      "metadata": {
        "id": "GfGtTSMk5QLq"
      },
      "source": [
        "---"
      ]
    },
    {
      "cell_type": "markdown",
      "metadata": {
        "id": "8eX894mv5QLq"
      },
      "source": [
        "## Seção 5: Visualização Intuitiva com Nuvens de Palavras\n",
        "\n",
        "As nuvens de palavras (*word clouds*) são uma das formas mais populares e intuitivas de visualizar dados textuais. Elas representam a frequência de cada palavra através do tamanho de sua fonte: quanto mais frequente a palavra, maior ela aparece na nuvem. Essa técnica permite uma absorção rápida e visual dos termos mais proeminentes em um grande volume de texto."
      ]
    },
    {
      "cell_type": "markdown",
      "metadata": {
        "id": "cZCfDqo15QLq"
      },
      "source": [
        "### Geração de uma Nuvem de Palavras Geral\n",
        "\n",
        "Para criar nossa primeira nuvem de palavras, precisamos concatenar todos os nossos tokens limpos (sem stopwords) em uma única e longa string. Em seguida, utilizaremos a biblioteca `wordcloud` para gerar e exibir a visualização."
      ]
    },
    {
      "cell_type": "code",
      "execution_count": null,
      "metadata": {
        "id": "V2UeVxh55QLq"
      },
      "outputs": [],
      "source": [
        "# Concatenando todos os tokens em uma única string\n",
        "text_for_wordcloud = ' '.join(all_tokens)\n",
        "\n",
        "# Criando o objeto WordCloud\n",
        "# background_color='white' melhora a legibilidade\n",
        "# collocations=False evita que a biblioteca agrupe bigrams automaticamente\n",
        "wordcloud = WordCloud(width=800, height=400, background_color='white', collocations=False).generate(text_for_wordcloud)\n",
        "\n",
        "# Exibindo a nuvem de palavras com Matplotlib\n",
        "plt.figure(figsize=(15, 7))\n",
        "plt.imshow(wordcloud, interpolation='bilinear')\n",
        "plt.axis('off') # Remove os eixos\n",
        "plt.title('Nuvem de Palavras Geral das Avaliações de Clientes')\n",
        "plt.show()"
      ]
    },
    {
      "cell_type": "markdown",
      "metadata": {
        "id": "jIHGMp445QLq"
      },
      "source": [
        "### Nuvens de Palavras Comparativas por Sentimento\n",
        "\n",
        "Uma nuvem de palavras geral é útil, mas o verdadeiro poder dessa visualização emerge quando a usamos para comparar diferentes segmentos do nosso dataset. Vamos criar duas nuvens de palavras distintas: uma para as avaliações mais positivas (`review_score` = 5) e outra para as mais negativas (`review_score` = 1). Isso nos permitirá contrastar visualmente o vocabulário usado em cada cenário."
      ]
    },
    {
      "cell_type": "code",
      "execution_count": null,
      "metadata": {
        "id": "2CPl7KCH5QLq"
      },
      "outputs": [],
      "source": [
        "# Filtrando o texto para avaliações positivas (nota 5)\n",
        "positive_reviews_text = ' '.join([token for sublist in reviews_df[reviews_df['review_score'] == 5]['tokens_no_stop'] for token in sublist])\n",
        "\n",
        "# Filtrando o texto para avaliações negativas (nota 1)\n",
        "negative_reviews_text = ' '.join([token for sublist in reviews_df[reviews_df['review_score'] == 1]['tokens_no_stop'] for token in sublist])\n",
        "\n",
        "# Gerando a nuvem de palavras para avaliações positivas\n",
        "wordcloud_positive = WordCloud(width=800, height=400, background_color='white', collocations=False).generate(positive_reviews_text)\n",
        "\n",
        "# Gerando a nuvem de palavras para avaliações negativas\n",
        "wordcloud_negative = WordCloud(width=800, height=400, background_color='white', collocations=False).generate(negative_reviews_text)\n",
        "\n",
        "# Plotando as duas nuvens lado a lado\n",
        "fig, (ax1, ax2) = plt.subplots(1, 2, figsize=(20, 10))\n",
        "\n",
        "ax1.imshow(wordcloud_positive, interpolation='bilinear')\n",
        "ax1.set_title('Nuvem de Palavras - Avaliações Positivas (Nota 5)', fontsize=16)\n",
        "ax1.axis('off')\n",
        "\n",
        "ax2.imshow(wordcloud_negative, interpolation='bilinear')\n",
        "ax2.set_title('Nuvem de Palavras - Avaliações Negativas (Nota 1)', fontsize=16)\n",
        "ax2.axis('off')\n",
        "\n",
        "plt.show()"
      ]
    },
    {
      "cell_type": "markdown",
      "metadata": {
        "id": "NH1qG4ta5QLq"
      },
      "source": [
        "A comparação visual entre as duas nuvens revela a dicotomia da experiência do cliente.\n",
        "\n",
        "Essas duas nuvens podem funcionar como um \"dicionário\" visual de indicadores de desempenho operacional. Os termos na nuvem negativa são alertas diretos para áreas que necessitam de melhoria, como logística, controle de qualidade e atendimento ao cliente. Os termos na nuvem positiva representam os pontos fortes da operação, que podem e devem ser utilizados em estratégias de marketing para reforçar a proposta de valor da empresa."
      ]
    },
    {
      "cell_type": "markdown",
      "metadata": {
        "id": "kOKHHtvy5QLr"
      },
      "source": [
        "### Exercício Prático 5: Análise das Avaliações Neutras\n",
        "\n",
        "**Tarefa:** Gere uma nuvem de palavras para as avaliações consideradas \"neutras\" (`review_score` = 3). Em seguida, compare visualmente essa nova nuvem com as nuvens de avaliações positivas e negativas que acabamos de criar. Descreva em um parágrafo as principais diferenças e semelhanças que você observou.\n",
        "\n",
        "**Objetivo de Aprendizagem:** Este exercício incentiva a investigação da ambiguidade das avaliações \"neutras\". O objetivo é entender se o vocabulário delas se assemelha mais ao positivo, ao negativo, ou se possui características distintas, talvez indicando uma experiência mista (ex: \"o produto é bom, mas a entrega demorou\")."
      ]
    },
    {
      "cell_type": "code",
      "execution_count": null,
      "metadata": {
        "id": "OZKHSKfr5QLr"
      },
      "outputs": [],
      "source": []
    },
    {
      "cell_type": "markdown",
      "metadata": {
        "id": "RDMdoGCo5QLr"
      },
      "source": [
        "---"
      ]
    },
    {
      "cell_type": "markdown",
      "metadata": {
        "id": "1ETNDr4t5QLr"
      },
      "source": [
        "## Seção 6: Normalização de Palavras com Stemming\n",
        "\n",
        "Até agora, tratamos palavras como \"entrega\", \"entregou\" e \"entregue\" como tokens distintos. No entanto, todas elas se referem ao mesmo conceito fundamental. O *stemming* é uma técnica de normalização que reduz as palavras ao seu radical (ou *stem*), agrupando diferentes flexões de uma mesma palavra. Isso ajuda a consolidar as contagens de frequência e a reduzir a complexidade do nosso vocabulário."
      ]
    },
    {
      "cell_type": "markdown",
      "metadata": {
        "id": "WmZTrtMX5QLr"
      },
      "source": [
        "### Conceito de Stemming\n",
        "\n",
        "O objetivo do *stemming* é remover sufixos e prefixos para obter o radical da palavra. É importante notar que o *stem* resultante nem sempre é uma palavra lexicograficamente correta. Por exemplo, \"entregar\", \"entregou\" e \"entregue\" podem ser reduzidas ao radical \"entreg\". Para a língua portuguesa, a biblioteca NLTK oferece o `RSLPStemmer` (Removedor de os da Língua Portuguesa), um algoritmo baseado em regras e projetado especificamente para o nosso idioma."
      ]
    },
    {
      "cell_type": "markdown",
      "metadata": {
        "id": "SkjORdjN5QLr"
      },
      "source": [
        "### Aplicação do Stemming\n",
        "\n",
        "Vamos aplicar o `RSLPStemmer` a cada um dos nossos tokens limpos para criar uma nova coluna com os radicais."
      ]
    },
    {
      "cell_type": "code",
      "execution_count": null,
      "metadata": {
        "id": "wSNd0Q3c5QLr"
      },
      "outputs": [],
      "source": [
        "# Instanciando o stemmer para português\n",
        "stemmer = RSLPStemmer()\n",
        "\n",
        "# Função para aplicar o stemming a uma lista de tokens\n",
        "def stem_tokens(tokens):\n",
        "    return [stemmer.stem(token) for token in tokens]\n",
        "\n",
        "# Aplicando a função para criar uma nova coluna de tokens com stemming\n",
        "reviews_df['tokens_stemmed'] = reviews_df['tokens_no_stop'].apply(stem_tokens)\n",
        "\n",
        "# Exibindo o resultado do stemming\n",
        "print(\"Comparação de Tokens sem Stopwords vs. Tokens com Stemming:\")\n",
        "display(reviews_df[['tokens_no_stop', 'tokens_stemmed']].head())"
      ]
    },
    {
      "cell_type": "markdown",
      "metadata": {
        "id": "vc56KxiJ5QLr"
      },
      "source": [
        "### Reavaliando a Frequência\n",
        "\n",
        "Com os radicais em mãos, podemos repetir nossa análise de frequência. Espera-se que as contagens de conceitos-chave aumentem, pois agora estamos agregando todas as suas variações."
      ]
    },
    {
      "cell_type": "code",
      "execution_count": null,
      "metadata": {
        "id": "G7yFs8_-5QLr"
      },
      "outputs": [],
      "source": [
        "#do uma lista única com todos os tokens com stemming\n",
        "all_stemmed_tokens = [token for sublist in reviews_df['tokens_stemmed'] for token in sublist]\n",
        "\n",
        "# Calculando a frequência de cada radical\n",
        "freq_dist_stemmed = FreqDist(all_stemmed_tokens)\n",
        "\n",
        "# Convertendo para DataFrame para visualização\n",
        "stemmed_list_for_df = freq_dist_stemmed.most_common(20)\n",
        "stemmed_df = pd.DataFrame(stemmed_list_for_df, columns=['Radical', 'Frequência'])\n",
        "# Visualização 3: Gráfico de barras dos radicais mais comuns\n",
        "plt.figure(figsize=(12, 8))\n",
        "sns.barplot(data=stemmed_df, x='Frequência', y='Radical', palette='viridis')\n",
        "plt.title('20 Radicais Mais Frequentes nas Avaliações (após Stemming)')\n",
        "plt.xlabel('Frequência')\n",
        "plt.ylabel('Radical')\n",
        "plt.show()"
      ]
    },
    {
      "cell_type": "markdown",
      "metadata": {
        "id": "RqsMhK-q5QLr"
      },
      "source": [
        "A comparação deste gráfico com o gráfico de unigrams da Seção anterior da agregação semântica. A análise de unigrams trata \"problema\" e \"problemas\" como duas entidades distintas, diluindo a importância do conceito subjacente de \"problema\". Após o *stemming*, ambas as palavras são mapeadas para o radical \"problem\", e suas frequências são somadas. Isso nos fornece uma medida muito mais precisa da importância de um *conceito*, em vez de apenas uma *palavra*. Essa normalização é fundamental para algoritmos de modelagem de tópicos, como o Latent Dirichlet A) que veremos a seguir, pois eles operam com base na frequência de \"termos\" para identificar temas. O *stemming* é, portanto, um passo crucial para reduzir o ruído morfológico e fortalecer o sinal temático em nosso corpus."
      ]
    },
    {
      "cell_type": "markdown",
      "metadata": {
        "id": "LHkuEx5Q83PA"
      },
      "source": [
        "Além de stemming, temos também lemmatização, onde as palavras são simplificadas porém para palavras que ainda são palavras básicas. Como ele utiliza outra biblioteca (Spacy), o mesmo será abordado em aulas futuras."
      ]
    },
    {
      "cell_type": "markdown",
      "metadata": {
        "id": "rUWDsQWp5QLr"
      },
      "source": [
        "### Exercício Prático 6: Identificação de Grupos de Palavras\n",
        "\n",
        "**Tarefa:** Escolha um dos 5 radicais mais comuns do seu resultado (por exemplo, \"produt\", \"entreg\", \"praz\"). a, volte ao seu corpus de tokens *antes* do *stemming* (`tokens_no_stop`) e encontre todas as palavras únicas que foram reduzidas a esse radical específico.\n",
        "\n",
        "**Objetivo de Aprendizagem:** Este exercício visa solidificar a compreensão do que o *stemming* faz na prática, mostrando explicitamente como diferentes palavras (flexões verbais, plurais, etc.) são agrupadas sob um único radical, e como isso consolida a contagem de frequência de um conceito."
      ]
    },
    {
      "cell_type": "code",
      "execution_count": null,
      "metadata": {
        "id": "hgrSMo9g5QLr"
      },
      "outputs": [],
      "source": []
    },
    {
      "cell_type": "markdown",
      "metadata": {
        "id": "2lV2JBG65QLr"
      },
      "source": [
        "---"
      ]
    },
    {
      "cell_type": "markdown",
      "metadata": {
        "id": "d0fn-R-j5QLr"
      },
      "source": [
        "## Seção 7: Descoberta de Tópicos com Latent Dirichlet Acation (LDA)\n",
        "\n",
        "Até agora, exploramos o texto através de contagens de frequência e visualizações. Agora, vamos utilizar uma técnica de aprendizado de máquina não supervisionado, o **Latent Dirichlet Allocation (LDA)**, para descobrir automaticamente os principais temas ou \"tópicos\" latentes que são discutidos no corpus de avaliações."
      ]
    },
    {
      "cell_type": "markdown",
      "metadata": {
        "id": "wx5CelpI5QLr"
      },
      "source": [
        "### Introdução ao Topic Modeling e LDA\n",
        "\n",
        "*Topic Modeling* é uma classe de algoritmos estatísticos usados para descobrir as estruturas temáticas abstratas que ocorrem em uma coleção de documentos. O LDA é um dos algoritmos mais populares para essa tarefa. A premissa fundamental do LDA é que cada documento (no nosso caso, cada avaliação) é uma mistura de vários tópicos, e cada tópico é, por sua vez, uma distribuição de probabilidades sobre um conjunto de palavras. Por exemplo, um tópico sobre \"Logística\" teria uma alta probilidade de gerar palavras como \"entrega\", \"prazo\", \"rápido\" e \"correios\"."
      ]
    },
    {
      "cell_type": "markdown",
      "metadata": {
        "id": "ffdWIwaa5QLr"
      },
      "source": [
        "### Preparação dos Dados para o LDA\n",
        "\n",
        "O LDA, como a maioria dos algoritmos de machine learning, não opera diretamente sobre texto. Ele requer uma representação numérica. A abordagem padrão é a **Bag-of-Words (BoW)**, que representa cada documento como um vetor de contagens de palavras. Para isso, utilizaremos o `CountVe da biblioteca Scikit-learn, que transforma nosso corpus de texto em uma matriz documento-termo, onde cada linha é uma avaliação e cada coluna é uma palavra única (termo) do nosso vocabulário."
      ]
    },
    {
      "cell_type": "code",
      "execution_count": null,
      "metadata": {
        "id": "fd2K9Ftu5QLr"
      },
      "outputs": [],
      "source": []
    },
    {
      "cell_type": "markdown",
      "metadata": {
        "id": "l_a8TnpB5QLr"
      },
      "source": [
        "### Construção e Treinamento do Modelo LDA\n",
        "\n",
        "Com a matriz pronta, podemos construir e treinar nosso modelo LDA. Um hiperparâmetro crucial é o `n_components`, que define o número de tópicos que queremos que o algoritmo encontre. A escolha desse número é muit um processo iterativo, mas começaremos com 5 tópicos para ver se eles representam categorias distintas e interpretáveis."
      ]
    },
    {
      "cell_type": "code",
      "execution_count": null,
      "metadata": {
        "id": "nQv0oHyk5QLs"
      },
      "outputs": [],
      "source": [
        "# Instanciando o modelo LDA\n",
        "# n_components é o número de tópicos que queremos encontrar\n",
        "lda_model = LatentDirichletAllocation(n_components=5, random_state=42)\n",
        "\n",
        "# Treinando o modelo com a matriz documento-termo\n",
        "lda_model.fit(doc_term_matrix)"
      ]
    },
    {
      "cell_type": "markdown",
      "metadata": {
        "id": "-H_PCTPX5QLs"
      },
      "source": [
        "### Interpretação e Visualização dos Tópicos\n",
        "\n",
        "O resultado do treinamento do LDA é um modelo que aprendeu a associação entre palavras e tópicos. Podemos inspecionar o atributo `components_` do modelo para descobrir quais palavras são mais importantes para cada tópico."
      ]
    },
    {
      "cell_type": "code",
      "execution_count": null,
      "metadata": {
        "id": "kHJPd5DW5QLs"
      },
      "outputs": [],
      "source": [
        "# Função para exibir os tópicos e suas principais palavras\n",
        "def display_topics(model, feature_names, num_top_words):\n",
        "    for topic_idx, topic in enumerate(model.components_):\n",
        "        print(f\"Tópico {topic_idx + 1}:\")\n",
        "        print(\" \".join([feature_names[i] for i in topic.argsort()[:-num_top_words - 1:-1]]))\n",
        "\n",
        "# Obtendo os nomes das palavras (features) do nosso vocabulário\n",
        "feature_names = vectorizer.get_feature_names_out()\n",
        "num_top_words = 10\n",
        "\n",
        "# Exibindo os tópicos\n",
        "display_topics(lda_model, feature_names, num_top_words)"
      ]
    },
    {
      "cell_type": "markdown",
      "metadata": {
        "id": "JdEkjHzJ5QLs"
      },
      "source": [
        "A saída desta função nos apresenta os tópicos descobertos. Cada tópico é representado por uma lista de suas 10 palavras mais prováveis. A tarefa agora é humana: interpretar esses grupos de palavras e atribuir a eles um rótulo significativo.\n",
        "\n",
        "\n",
        "\n",
        "Essa análise revela a estrutura oculta da experiência do cliente. Enquanto a análise de frequência nos diz quais palavras são importantes, o LDA nos mostra quais palavras importantes tendem a ser usadas *juntando as dimensões subjacentes do feedback. Agora, em vez de reagir a palavras isoladas, a empresa pode monitorar a prevalência desses tópicos ao longo do tempo. Um aumento súbito no tópico \"Problemas com o Produto ou Pedido\" é um sinal de alerta muito mais claro e estratégico do que um simples aumento na frequência da palavra \"problema\", permitindo uma análise de causa raiz mais eficaz."
      ]
    },
    {
      "cell_type": "markdown",
      "metadata": {
        "id": "wlxaT5F25QLs"
      },
      "source": [
        "### Exercício Prático 7: Hiperparâmetros do Modelo\n",
        "\n",
        "**Tarefa:** Treine o modelo LDA novamente, mas desta vez alterando o número de tópicos (`n_components`). Tente primeiro com 3 tópicos e depois com 10. Compare os tópicos resultantes em cada caso. Discuta qual número de tópicos parece gerar os resultados mais coerentes e interpretáveis para este dataset.\n",
        "\n",
        "**Objetivo de Aprendizagem:** Este exercício introduz a ideia de que modelos de machine learning possuem hiperparâmetros que precisam sos. Ele demonstra que a \"melhor\" escolha nem sempre é baseada em uma métrica de erro, mas muitas vezes na interpretabilidade e na utilidade prática dos resultados do modelo."
      ]
    },
    {
      "cell_type": "code",
      "execution_count": null,
      "metadata": {
        "id": "EkKqCZe65QLs"
      },
      "outputs": [],
      "source": []
    },
    {
      "cell_type": "markdown",
      "metadata": {
        "id": "b0kP-8gS5QLs"
      },
      "source": [
        "---"
      ]
    },
    {
      "cell_type": "markdown",
      "metadata": {
        "id": "EwZQAsGx5QLs"
      },
      "source": [
        "## Seção 8: Conclusão"
      ]
    },
    {
      "cell_type": "markdown",
      "metadata": {
        "id": "3uZ9_GD35QLs"
      },
      "source": [
        "### Sumário dos Insights\n",
        "\n",
        "Nesta aula, realizamos uma jornada completa de Análise Exploratória de Dados textuais, partindo de avaliações brutas de clientes e chegando à descoberta de temas estruturados. As técnicas aplicadas nos permitiram extrair insights valiosos e formar uma visão abrangente sobre a experiência do cliente na plataforma Olist.\n",
        "\n",
        "\n",
        "Cada técnica utilizada adicionou uma peça ao quebra-cabeça. A análise de frequência e as nuvens de palavras nos deram uma visão geral dos termos mais importantes. A análise de n-grams adicionou contexto. O *stemming* nos permitiu agregar conceitos. E, finalmente, o LDA revelou a estrutura temática subjacente que conecta todas essas palavras."
      ]
    },
    {
      "cell_type": "markdown",
      "metadata": {
        "id": "LiNDQHTT5QLs"
      },
      "source": []
    }
  ],
  "metadata": {
    "colab": {
      "provenance": []
    },
    "kernelspec": {
      "display_name": "Meu_Ambiente",
      "language": "python",
      "name": "python3"
    },
    "language_info": {
      "codemirror_mode": {
        "name": "ipython",
        "version": 3
      },
      "file_extension": ".py",
      "mimetype": "text/x-python",
      "name": "python",
      "nbconvert_exporter": "python",
      "pygments_lexer": "ipython3",
      "version": "3.9.6"
    }
  },
  "nbformat": 4,
  "nbformat_minor": 0
}
